{
 "cells": [
  {
   "cell_type": "markdown",
   "id": "357e895d",
   "metadata": {},
   "source": [
    "Pokemon API Wrapper\n",
    "Create a python wrapper for the Pokemon API. It should take in a pokemon name and display the pokemon with its height and weight"
   ]
  },
  {
   "cell_type": "code",
   "execution_count": 50,
   "id": "d1f222d9",
   "metadata": {},
   "outputs": [],
   "source": [
    "import requests"
   ]
  },
  {
   "cell_type": "code",
   "execution_count": 51,
   "id": "b105b7b3",
   "metadata": {},
   "outputs": [
    {
     "name": "stdout",
     "output_type": "stream",
     "text": [
      "ivysaur's height is 3.28 ft\n",
      "ivysaur's weight is 28.66 lb\n",
      "venusaur's height is 6.56 ft\n",
      "venusaur's weight is 220.46 lb\n",
      "Ivysaur's height is 3.28 ft\n",
      "Ivysaur's weight is 28.66 lb\n",
      "This pokemon name is not one of 20 in our database\n"
     ]
    }
   ],
   "source": [
    "class Pokemon:\n",
    "    poke_base_url = 'https://pokeapi.co/api/v2/pokemon/'\n",
    "    \n",
    "    def __init__(self, pokemon_name):\n",
    "        self.pokemon_name = pokemon_name.lower()\n",
    "        res = requests.get(f\"{poke_base_url}{self.pokemon_name}\")\n",
    "        \n",
    "        if res.status_code == 200:\n",
    "            data = res.json()\n",
    "            pokemon_height = round(data['height']/3.048, 2)\n",
    "            pokemon_weight = round(data['weight']/4.536, 2)\n",
    "            print (f'{pokemon_name}\\'s height is {pokemon_height} ft')\n",
    "            print (f'{pokemon_name}\\'s weight is {pokemon_weight} lb')\n",
    "        else:\n",
    "            print(\"This pokemon name is not one of 20 in our database\")\n",
    "        \n",
    "\n",
    "#Why can't I use return under else rather than print\n",
    "#How do I decrease the number of decimal points -- is there an easier way than listed above        \n",
    "\n",
    "\n",
    "poke_char = Pokemon('ivysaur')\n",
    "poke_char = Pokemon('venusaur')\n",
    "poke_char = Pokemon('Ivysaur')\n",
    "poke_char = Pokemon('L')\n"
   ]
  }
 ],
 "metadata": {
  "kernelspec": {
   "display_name": "Python 3",
   "language": "python",
   "name": "python3"
  },
  "language_info": {
   "codemirror_mode": {
    "name": "ipython",
    "version": 3
   },
   "file_extension": ".py",
   "mimetype": "text/x-python",
   "name": "python",
   "nbconvert_exporter": "python",
   "pygments_lexer": "ipython3",
   "version": "3.8.8"
  }
 },
 "nbformat": 4,
 "nbformat_minor": 5
}
